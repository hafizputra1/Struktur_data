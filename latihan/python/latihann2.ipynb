{
 "cells": [
  {
   "cell_type": "code",
   "execution_count": 15,
   "id": "6085fbf5",
   "metadata": {},
   "outputs": [
    {
     "name": "stdout",
     "output_type": "stream",
     "text": [
      "Index ke-0: 75\n",
      "Index ke-1: 80\n",
      "Index ke-2: 90\n",
      "Index ke-3: 85\n",
      "Index ke-4: 100\n"
     ]
    }
   ],
   "source": [
    "# Membuat array (list)\n",
    "nilai = [75, 80, 90, 85, 100]\n",
    "\n",
    "# Menampilkan semua nilai beserta index-nya\n",
    "for index, value in enumerate(nilai):\n",
    "    print(f\"Index ke-{index}: {value}\")\n"
   ]
  },
  {
   "cell_type": "code",
   "execution_count": 2,
   "id": "bce0e14d",
   "metadata": {},
   "outputs": [
    {
     "name": "stdout",
     "output_type": "stream",
     "text": [
      "75\n",
      "80\n",
      "90\n",
      "85\n",
      "100\n"
     ]
    }
   ],
   "source": [
    "# Membuat array (list)\n",
    "nilai = [75, 80, 90, 85, 100]\n",
    "\n",
    "for data in nilai:\n",
    "    print (data)\n",
    "\n"
   ]
  },
  {
   "cell_type": "code",
   "execution_count": 3,
   "id": "38d0bdf5",
   "metadata": {},
   "outputs": [
    {
     "name": "stdout",
     "output_type": "stream",
     "text": [
      "Bob\n",
      "456\n",
      "Sistem Informasi\n",
      "3.6\n"
     ]
    }
   ],
   "source": [
    "# Variabel tuple\n",
    "data = (\"Bob\", 456, \"Sistem Informasi\", 3.6)\n",
    "\n",
    "# Menampilkan masing-masing nilai\n",
    "for nilai in data:\n",
    "    print(nilai)\n"
   ]
  },
  {
   "cell_type": "code",
   "execution_count": 1,
   "id": "121dffcb",
   "metadata": {},
   "outputs": [
    {
     "name": "stdout",
     "output_type": "stream",
     "text": [
      "masukan 5 angka:\n",
      "nilai yang dimasukkan: [1, 2, 3, 4, 5]\n",
      "nilai yang di urutkan: [1, 2, 3, 4, 5]\n"
     ]
    }
   ],
   "source": [
    "array =[]\n",
    "print(\"masukan 5 angka:\")\n",
    "\n",
    "for i in range(5):\n",
    "    nilai = int(input(f\"angka ke-{i+1}\"))\n",
    "    array.append(nilai)\n",
    "print (f\"nilai yang dimasukkan:\", array)\n",
    "#reverse=True itu untuk mengurutkan data dari terbesar menjadi terkecil\n",
    "array.sort()\n",
    "print(f\"nilai yang di urutkan:\",array)"
   ]
  },
  {
   "cell_type": "code",
   "execution_count": 3,
   "id": "b204e4e3",
   "metadata": {},
   "outputs": [
    {
     "name": "stdout",
     "output_type": "stream",
     "text": [
      "[100, 35, 20, 17, 5]\n"
     ]
    }
   ],
   "source": [
    "nilai = [100,17,20,35,5]\n",
    "nilai.sort(reverse=True)\n",
    "print(nilai)"
   ]
  },
  {
   "cell_type": "code",
   "execution_count": 4,
   "id": "dbaaf6e8",
   "metadata": {},
   "outputs": [
    {
     "name": "stdout",
     "output_type": "stream",
     "text": [
      "Masukkan 3 angka:\n",
      "Nilai yang dimasukkan: [5, 15, 10]\n",
      "Nilai terurut: [5, 10, 15]\n"
     ]
    }
   ],
   "source": [
    "array = []\n",
    "\n",
    "print(\"Masukkan 3 angka:\")\n",
    "\n",
    "for i in range(3):\n",
    "    nilai = int(input(f\"Angka ke-(i+1): \"))\n",
    "    array.append(nilai)\n",
    "\n",
    "print(\"Nilai yang dimasukkan:\", array)\n",
    "#untuk mengurutkan array\n",
    "array.sort()\n",
    "\n",
    "print(\"Nilai terurut:\" , array)\n"
   ]
  },
  {
   "cell_type": "code",
   "execution_count": 12,
   "id": "6d24c13d",
   "metadata": {},
   "outputs": [
    {
     "name": "stdout",
     "output_type": "stream",
     "text": [
      "0 20\n",
      "1 a\n",
      "2 100\n",
      "3 b\n",
      "4 70\n"
     ]
    }
   ],
   "source": [
    "nilai = [20,\"a\",100,'b',70]\n",
    "for indeks,value in enumerate(nilai):\n",
    "    print(indeks,value)"
   ]
  },
  {
   "cell_type": "code",
   "execution_count": 10,
   "id": "763c6833",
   "metadata": {},
   "outputs": [
    {
     "name": "stdout",
     "output_type": "stream",
     "text": [
      "(False, True)\n"
     ]
    }
   ],
   "source": [
    "A = 15\n",
    "B = 20\n",
    "banding = A >= B, A <= B\n",
    "print (banding)"
   ]
  }
 ],
 "metadata": {
  "kernelspec": {
   "display_name": "Python 3",
   "language": "python",
   "name": "python3"
  },
  "language_info": {
   "codemirror_mode": {
    "name": "ipython",
    "version": 3
   },
   "file_extension": ".py",
   "mimetype": "text/x-python",
   "name": "python",
   "nbconvert_exporter": "python",
   "pygments_lexer": "ipython3",
   "version": "3.12.3"
  }
 },
 "nbformat": 4,
 "nbformat_minor": 5
}
