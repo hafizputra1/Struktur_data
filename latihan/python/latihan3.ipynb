{
 "cells": [
  {
   "cell_type": "code",
   "execution_count": 2,
   "id": "c025a5d5",
   "metadata": {},
   "outputs": [
    {
     "name": "stdout",
     "output_type": "stream",
     "text": [
      "15 == 20 : False\n",
      "15 != 20 : True\n",
      "15 > 20  : False\n",
      "15 < 20  : True\n",
      "15 >= 20 : False\n",
      "15 <= 20 : True\n"
     ]
    }
   ],
   "source": [
    "# Membuat dua variabel\n",
    "a = 15\n",
    "b = 20\n",
    "\n",
    "# Menampilkan hasil perbandingan\n",
    "print(f\"{a} == {b} : {a == b}\")   # Apakah a sama dengan b\n",
    "print(f\"{a} != {b} : {a != b}\")   # Apakah a tidak sama dengan b\n",
    "print(f\"{a} > {b}  : {a > b}\")    # Apakah a lebih besar dari b\n",
    "print(f\"{a} < {b}  : {a < b}\")    # Apakah a lebih kecil dari b\n",
    "print(f\"{a} >= {b} : {a >= b}\")   # Apakah a lebih besar atau sama dengan b\n",
    "print(f\"{a} <= {b} : {a <= b}\")   # Apakah a lebih kecil atau sama dengan b\n"
   ]
  },
  {
   "cell_type": "code",
   "execution_count": 2,
   "id": "6ebe79f7",
   "metadata": {},
   "outputs": [
    {
     "name": "stdout",
     "output_type": "stream",
     "text": [
      "NIM: 20240801153\n",
      "Hasil kali semua angkanya: 0\n"
     ]
    }
   ],
   "source": [
    "from functools import reduce\n",
    "\n",
    "# Variabel NIM sebagai string\n",
    "nim = \"20240801153\"\n",
    "\n",
    "# Mengalikan semua angka dalam NIM\n",
    "# Inisialisasi dengan 1 karena perkalian dengan 0 akan selalu menghasilkan 0\n",
    "jumlah = reduce(lambda x,y: x * int(y),nim ,1) \n",
    "\n",
    "# Menampilkan hasil\n",
    "print(f\"NIM: {nim}\")\n",
    "print(f\"Hasil kali semua angkanya: {jumlah}\")"
   ]
  },
  {
   "cell_type": "code",
   "execution_count": 1,
   "id": "480c76f1",
   "metadata": {},
   "outputs": [
    {
     "name": "stdout",
     "output_type": "stream",
     "text": [
      "NIM: 20240801153\n",
      "Jumlah semua angkanya: 26\n"
     ]
    }
   ],
   "source": [
    "# Variabel NIM sebagai string\n",
    "nim = \"20240801153\"\n",
    "\n",
    "# Menjumlahkan semua angka dalam NIM\n",
    "jumlah = sum(int(digit) for digit in nim)\n",
    "\n",
    "# Menampilkan hasil\n",
    "print(f\"NIM: {nim}\")\n",
    "print(f\"Jumlah semua angkanya: {jumlah}\")\n"
   ]
  }
 ],
 "metadata": {
  "kernelspec": {
   "display_name": "Python 3",
   "language": "python",
   "name": "python3"
  },
  "language_info": {
   "codemirror_mode": {
    "name": "ipython",
    "version": 3
   },
   "file_extension": ".py",
   "mimetype": "text/x-python",
   "name": "python",
   "nbconvert_exporter": "python",
   "pygments_lexer": "ipython3",
   "version": "3.12.3"
  }
 },
 "nbformat": 4,
 "nbformat_minor": 5
}
