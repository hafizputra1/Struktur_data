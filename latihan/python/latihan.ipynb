{
 "cells": [
  {
   "cell_type": "code",
   "execution_count": 2,
   "id": "3c15c69d",
   "metadata": {},
   "outputs": [
    {
     "name": "stdout",
     "output_type": "stream",
     "text": [
      "jeruk\n",
      "semangka\n",
      "melon\n"
     ]
    }
   ],
   "source": [
    "buah = [\"jeruk\",\"semangka\",\"melon\"]\n",
    "#untuk mengganti vvariable\n",
    "for y in buah:\n",
    "    print (y)\n",
    "\n"
   ]
  },
  {
   "cell_type": "code",
   "execution_count": 4,
   "id": "e7203fd4",
   "metadata": {},
   "outputs": [
    {
     "name": "stdout",
     "output_type": "stream",
     "text": [
      " nim asli : 20240801153\n",
      "hasil ditambah 3: [6, 0, 6, 12, 0, 24, 0, 3, 3, 15, 9]\n"
     ]
    }
   ],
   "source": [
    "# Variabel nim (dalam bentuk string agar bisa diakses per karakter)\n",
    "nim = \"20240801153\"\n",
    "\n",
    "# Mengalikan setiap digit dengan 3 dan menyimpannya dalam list\n",
    "nim_ditambah_3 = [int(digit) * 3 for digit in nim]\n",
    "\n",
    "# Menampilkan hasil\n",
    "print(f\" nim asli : {nim}\")\n",
    "print( \"hasil ditambah 3:\" ,nim_ditambah_3)\n"
   ]
  },
  {
   "cell_type": "code",
   "execution_count": 10,
   "id": "c1fcf3b9",
   "metadata": {},
   "outputs": [
    {
     "name": "stdout",
     "output_type": "stream",
     "text": [
      "jumlah nama panjang saya adalah: 17\n"
     ]
    }
   ],
   "source": [
    "nama1= \"hafiz\"\n",
    "nama2= \"putra\"\n",
    "nama3= \"dewanto\"\n",
    "#untuk mencari berapa angka variablenya\n",
    "x = len(nama1)\n",
    "y = len(nama2)\n",
    "z = len(nama3)\n",
    "\n",
    "total_nama = x+y+z\n",
    "print (f\"jumlah nama panjang saya adalah:\" ,total_nama)"
   ]
  },
  {
   "cell_type": "code",
   "execution_count": 11,
   "id": "36493bc7",
   "metadata": {},
   "outputs": [
    {
     "name": "stdout",
     "output_type": "stream",
     "text": [
      "nama panjang saya : hafiz putra dewanto\n"
     ]
    }
   ],
   "source": [
    "nama1 = \"hafiz\"\n",
    "nama2 = \"putra\"\n",
    "nama3 = \"dewanto\"\n",
    "#untuk menggabungkan nama\n",
    "full_setence = f\"{nama1} {nama2} {nama3}\"\n",
    "print(f\"nama panjang saya : {full_setence}\")\n"
   ]
  },
  {
   "cell_type": "code",
   "execution_count": 35,
   "id": "7adc7061",
   "metadata": {},
   "outputs": [
    {
     "name": "stdout",
     "output_type": "stream",
     "text": [
      "['nana', 'miya', 'brody', 'argus']\n"
     ]
    }
   ],
   "source": [
    "hero_ml = [\"nana\",\"miya\",\"brody\"]\n",
    "#untuk menambhakan array\n",
    "hero_ml.append(\"argus\")\n",
    "print(hero_ml)"
   ]
  },
  {
   "cell_type": "code",
   "execution_count": 4,
   "id": "203511a4",
   "metadata": {},
   "outputs": [
    {
     "name": "stdout",
     "output_type": "stream",
     "text": [
      "Jumlah total huruf dari semua nama buah: 18\n"
     ]
    }
   ],
   "source": [
    "buah = [\"anggur\", \"jeruk\", \"alpukat\"]\n",
    "\n",
    "# Gabungkan semua nama buah jadi satu string, lalu hitung jumlah hurufnya\n",
    "total_abjad = sum(len(nama) for nama in buah)\n",
    "\n",
    "print(\"Jumlah total huruf dari semua nama buah:\", total_abjad)\n"
   ]
  }
 ],
 "metadata": {
  "kernelspec": {
   "display_name": "Python 3",
   "language": "python",
   "name": "python3"
  },
  "language_info": {
   "codemirror_mode": {
    "name": "ipython",
    "version": 3
   },
   "file_extension": ".py",
   "mimetype": "text/x-python",
   "name": "python",
   "nbconvert_exporter": "python",
   "pygments_lexer": "ipython3",
   "version": "3.12.3"
  }
 },
 "nbformat": 4,
 "nbformat_minor": 5
}
